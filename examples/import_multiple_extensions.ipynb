{
 "cells": [
  {
   "cell_type": "markdown",
   "metadata": {},
   "source": [
    "## <font color='#696969'> Example: Import Multiple File Extensions</font>\n",
    "\n",
    "In this example, we demonstrate how to import datasets in various file formats, including `.csv`, `.xlsx`, `.json`, `.parquet`, and `.txt`. We’ll walk you through setting up the necessary paths and using the `SmartDataLoader` to streamline the import process. This example shows how to efficiently handle different data formats and load them into a consistent structure, making it easier for data practitioners to work with diverse data sources.\n",
    "\n",
    "__Please note that this might look different when you run it in your own project. If you follow the recommended setup, you can skip all the directory configuration__ 🚀. \n",
    "\n",
    "I’ll be creating a video tutorial soon and will add the hyperlink here!\n",
    "\n",
    "#### __Reccomended Setup for your project:__\n",
    "\n",
    "```bash\n",
    "your_project_folder/\n",
    "├── data/                    # Folder for input data\n",
    "├── SmartDataLoader/         # SmartDataLoader package\n",
    "├── ...                      # Other files or directories in your project\n",
    "├── your_script.py           # Python script (if you're using one)\n",
    "└── your_notebook.ipynb      # Jupyter notebook (if you're using one)\n",
    "```"
   ]
  },
  {
   "cell_type": "code",
   "execution_count": 1,
   "metadata": {},
   "outputs": [],
   "source": [
    "# Import libraries\n",
    "import os\n",
    "import sys\n",
    "import pandas as pd\n",
    "\n",
    "# Add the utils directory to the sys path\n",
    "sys.path.append(os.path.abspath(os.path.join('..', 'utils')))\n",
    "\n",
    "# Import user defined modules\n",
    "from path_manager import PathManager\n",
    "from data_ingestor import DataFactory\n",
    "from data_loader import DataLoader"
   ]
  },
  {
   "cell_type": "markdown",
   "metadata": {},
   "source": [
    "## <font color='#696969'>Directory Setup</font>\n",
    "\n",
    "For the examples, the root folder is the `SmartDataLoader` itself, so it needs to be configured. \n",
    "\n",
    "**By default, the Path Manager assumes that the `SmartDataLoader` folder is located within your project directory. This is the recommended setup, as it avoids the need for additional directory configuration.**\n",
    "\n",
    "<br>\n",
    "\n",
    "**⚠️ ATTENTION:** If your data folder is not named `data`, **ensure that you specify the correct folder name in the `data_folder` attribute.**"
   ]
  },
  {
   "cell_type": "code",
   "execution_count": 2,
   "metadata": {},
   "outputs": [
    {
     "name": "stdout",
     "output_type": "stream",
     "text": [
      "Root path: /Users/franco/Desktop/SmartDataLoader\n",
      "Data path: /Users/franco/Desktop/SmartDataLoader/example_data/clean_data\n",
      "Metadata path: /Users/franco/Desktop/SmartDataLoader/metadata\n",
      "Extracted Data path: /Users/franco/Desktop/SmartDataLoader/extracted_data\n"
     ]
    }
   ],
   "source": [
    "# Set the project root path by going one level up from the 'examples' folder\n",
    "root_path = os.path.abspath(os.path.join(os.getcwd(), '..'))\n",
    "\n",
    "# Set up the data path, in this example the data in the example_data folder within the clean_data\n",
    "data_folder_name = os.path.join('example_data', 'clean_data')\n",
    "\n",
    "# Set up the path manager instance\n",
    "path_manager_instance = PathManager(root_path=root_path, data_folder=data_folder_name)\n",
    "\n",
    "print(\n",
    "    f'Root path: {path_manager_instance.get_project_root()}\\n'\n",
    "    f'Data path: {path_manager_instance.get_data_path()}\\n'\n",
    "    f'Metadata path: {path_manager_instance.get_metadata_path()}\\n'\n",
    "    f'Extracted Data path: {path_manager_instance.get_extracted_data_path()}'\n",
    ")"
   ]
  },
  {
   "cell_type": "markdown",
   "metadata": {},
   "source": [
    "## <font color='#696969'>Ingest Data</font>\n",
    "\n",
    "Now that the directories are set up, we can see the paths: the **metadata** and **extracted data** folders will be located within the project folder. **Remember**, the extracted data folder will only be created if there is a zip file present. \n",
    "\n",
    "We will now ingest the data. In this case, passing the pathes we created to create **metadata** thath import the files faster. If the\n",
    "\n",
    "<br>\n",
    "\n",
    "**⚠️ ATTENTION**: You only need to run the **ingestor** once. **Be aware** that if you update the metadata and then run the data ingestor again, your previous changes will be **deleted**."
   ]
  },
  {
   "cell_type": "code",
   "execution_count": 3,
   "metadata": {},
   "outputs": [
    {
     "name": "stdout",
     "output_type": "stream",
     "text": [
      "Metadata saved at /Users/franco/Desktop/SmartDataLoader/metadata/metadata.json\n",
      "Data was successfully ingested.\n"
     ]
    }
   ],
   "source": [
    "ingestor = DataFactory(\n",
    "    data_path = path_manager_instance.get_data_path(),\n",
    "    metadata_path = path_manager_instance.get_metadata_path(),\n",
    "    extracted_data_path = path_manager_instance.get_extracted_data_path()\n",
    ")\n",
    "\n",
    "ingestor.run_ingestion()"
   ]
  },
  {
   "cell_type": "markdown",
   "metadata": {},
   "source": [
    "## <font color='#696969'>Load Data</font>\n",
    "\n",
    "It's hight time to load the data! __We just need to pass our the metadata path__.\n",
    "\n",
    "Note: if "
   ]
  },
  {
   "cell_type": "code",
   "execution_count": 5,
   "metadata": {},
   "outputs": [
    {
     "name": "stdout",
     "output_type": "stream",
     "text": [
      "There is 1 file in the input data folder.\n",
      "\n"
     ]
    }
   ],
   "source": [
    "data_loader_instance = DataLoader(path_manager_instance.get_metadata_path())"
   ]
  },
  {
   "cell_type": "markdown",
   "metadata": {},
   "source": [
    "Since we have just one file in the input data folder, a variable named df "
   ]
  },
  {
   "cell_type": "code",
   "execution_count": null,
   "metadata": {},
   "outputs": [],
   "source": [
    "df = data_loader_instance.load_data()"
   ]
  }
 ],
 "metadata": {
  "kernelspec": {
   "display_name": "MLOPS",
   "language": "python",
   "name": "python3"
  },
  "language_info": {
   "codemirror_mode": {
    "name": "ipython",
    "version": 3
   },
   "file_extension": ".py",
   "mimetype": "text/x-python",
   "name": "python",
   "nbconvert_exporter": "python",
   "pygments_lexer": "ipython3",
   "version": "3.11.3"
  }
 },
 "nbformat": 4,
 "nbformat_minor": 2
}
